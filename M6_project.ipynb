{
  "nbformat": 4,
  "nbformat_minor": 0,
  "metadata": {
    "colab": {
      "provenance": []
    },
    "kernelspec": {
      "name": "python3",
      "display_name": "Python 3"
    },
    "language_info": {
      "name": "python"
    }
  },
  "cells": [
    {
      "cell_type": "code",
      "source": [
        "#library\n",
        "import matplotlib.pyplot as plt\n",
        "import numpy as np\n",
        "import pandas as pd\n",
        "import scipy\n",
        "from scipy.integrate import solve_ivp"
      ],
      "metadata": {
        "id": "p2TVX2fcW_CC"
      },
      "execution_count": 1,
      "outputs": []
    },
    {
      "cell_type": "code",
      "execution_count": 3,
      "metadata": {
        "id": "yehskQpbX2sc"
      },
      "outputs": [],
      "source": [
        "#define parameters\n",
        "n_species = 4\n",
        "n_cs = 10 # cs = carbon sources\n",
        "\n",
        "#default values\n",
        "g = np.ones(n_species) # conversion factor from energy uptake to growth rate, for species i ## all 1's, so all the energy is converted into growth ?\n",
        "m = np.zeros(n_species) # minimal energy uptake for maintenance of species (energy/time)\n",
        "l = 0.2*np.ones((n_species, n_cs)) # leakage fractions for resource 'a' (unitless)\n",
        "K = 1e-3*np.ones(n_cs) # consider making this small  ## WHAT IS THIS\n",
        "w = np.ones(n_cs) # all metabolites have the same energy"
      ]
    },
    {
      "cell_type": "code",
      "source": [
        "N0 = [ # list of initial population densities\n",
        "    1e-4, # species 1\n",
        "    1e-4, # species 2\n",
        "    1e-4, # species 3\n",
        "    1e-4  # species 4\n",
        "    ]\n",
        "R0 = np.zeros(n_cs) # concentration of resources at t=0 (mass/volume)\n",
        "R0[0] = 10 # first resource has a concentration of 10 (why ?)"
      ],
      "metadata": {
        "id": "0_cuXIXZYN21"
      },
      "execution_count": 4,
      "outputs": []
    },
    {
      "cell_type": "code",
      "source": [
        "# blip bloup"
      ],
      "metadata": {
        "id": "6GWV6OeAudyf"
      },
      "execution_count": 13,
      "outputs": []
    }
  ]
}