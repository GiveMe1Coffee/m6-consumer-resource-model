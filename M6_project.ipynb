{
  "nbformat": 4,
  "nbformat_minor": 0,
  "metadata": {
    "colab": {
      "provenance": []
    },
    "kernelspec": {
      "name": "python3",
      "display_name": "Python 3"
    },
    "language_info": {
      "name": "python"
    }
  },
  "cells": [
    {
      "cell_type": "code",
      "source": [
        "#library\n",
        "import numpy as np"
      ],
      "metadata": {
        "id": "p2TVX2fcW_CC"
      },
      "execution_count": 1,
      "outputs": []
    },
    {
      "cell_type": "code",
      "execution_count": 3,
      "metadata": {
        "id": "yehskQpbX2sc"
      },
      "outputs": [],
      "source": [
        "#define parameters\n",
        "n_species = 4\n",
        "n_cs = 10\n",
        "\n",
        "#default values\n",
        "g = np.ones(n_species) # conversion factor from species i from energy uptake to growth rate\n",
        "m = np.zeros(n_species) # minimal energy requirment for maintenance\n",
        "l = 0.2*np.ones((n_species, n_cs)) # leakage fractions\n",
        "K = 1e-3*np.ones(n_cs) # consider making this small\n",
        "w = np.ones(n_cs) # all metabolites have the same energy"
      ]
    },
    {
      "cell_type": "code",
      "source": [
        "N0 = [1e-4, 1e-4, 1e-4, 1e-4] # list of initial population densities\n",
        "R0 = np.zeros(n_cs) # concentration of resources at t=0 (mass/volume)\n",
        "R0[0] = 10"
      ],
      "metadata": {
        "id": "0_cuXIXZYN21"
      },
      "execution_count": 4,
      "outputs": []
    }
  ]
}