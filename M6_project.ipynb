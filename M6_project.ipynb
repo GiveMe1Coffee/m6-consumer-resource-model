{
  "nbformat": 4,
  "nbformat_minor": 0,
  "metadata": {
    "colab": {
      "provenance": []
    },
    "kernelspec": {
      "name": "python3",
      "display_name": "Python 3"
    },
    "language_info": {
      "name": "python"
    }
  },
  "cells": [
    {
      "cell_type": "code",
      "execution_count": null,
      "metadata": {
        "id": "yehskQpbX2sc"
      },
      "outputs": [],
      "source": [
        "hello world !"
      ]
    },
    {
      "cell_type": "code",
      "source": [
        "print(\"coucou différemmeowergfjeqwrofapwoefjwejiowesnt\")"
      ],
      "metadata": {
        "colab": {
          "base_uri": "https://localhost:8080/"
        },
        "id": "0_cuXIXZYN21",
        "outputId": "4078d039-6066-400a-8021-8fc3544c5c2b"
      },
      "execution_count": null,
      "outputs": [
        {
          "output_type": "stream",
          "name": "stdout",
          "text": [
            "coucou\n"
          ]
        }
      ]
    }
  ]
}